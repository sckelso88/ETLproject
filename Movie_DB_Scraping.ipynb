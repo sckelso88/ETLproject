{
 "cells": [
  {
   "cell_type": "code",
   "execution_count": 103,
   "metadata": {
    "scrolled": true
   },
   "outputs": [],
   "source": [
    "from bs4 import BeautifulSoup\n",
    "import requests\n",
    "import pymongo\n",
    "import pandas"
   ]
  },
  {
   "cell_type": "code",
   "execution_count": 104,
   "metadata": {
    "scrolled": true
   },
   "outputs": [],
   "source": [
    "conn = 'mongodb://localhost:27017'\n",
    "client = pymongo.MongoClient(conn)"
   ]
  },
  {
   "cell_type": "code",
   "execution_count": 105,
   "metadata": {
    "scrolled": true
   },
   "outputs": [],
   "source": [
    "db = client.imdb_db\n",
    "collection = db.items"
   ]
  },
  {
   "cell_type": "code",
   "execution_count": 106,
   "metadata": {
    "scrolled": true
   },
   "outputs": [],
   "source": [
    "url = \"https://www.imdb.com/chart/top?sort=rk,asc&mode=simple&page=1\"\n",
    "html = requests.get(url).text"
   ]
  },
  {
   "cell_type": "code",
   "execution_count": 107,
   "metadata": {
    "scrolled": true
   },
   "outputs": [],
   "source": [
    "soup = BeautifulSoup(html, \"html.parser\")\n"
   ]
  },
  {
   "cell_type": "code",
   "execution_count": 108,
   "metadata": {},
   "outputs": [],
   "source": [
    "#print(soup.prettify())"
   ]
  },
  {
   "cell_type": "code",
   "execution_count": 109,
   "metadata": {
    "scrolled": true
   },
   "outputs": [],
   "source": [
    "data = soup.find_all(\"tbody\", \"lister-list\")"
   ]
  },
  {
   "cell_type": "code",
   "execution_count": 110,
   "metadata": {},
   "outputs": [],
   "source": [
    "\n",
    "imdb_df = pandas.DataFrame(columns=[\"Title\", \"Rating\", \"Votes\"])"
   ]
  },
  {
   "cell_type": "code",
   "execution_count": 111,
   "metadata": {
    "scrolled": true
   },
   "outputs": [
    {
     "name": "stdout",
     "output_type": "stream",
     "text": [
      "The Shawshank Redemption 9.2 2,085,517\n",
      "The Godfather 9.2 1,431,146\n",
      "The Godfather: Part II 9.0 993,902\n",
      "The Dark Knight 9.0 2,052,032\n",
      "12 Angry Men 8.9 590,239\n",
      "Schindler's List 8.9 1,080,920\n",
      "The Lord of the Rings: The Return of the King 8.9 1,484,376\n",
      "Pulp Fiction 8.9 1,630,151\n",
      "The Good, the Bad and the Ugly 8.8 619,067\n",
      "Fight Club 8.8 1,667,489\n",
      "The Lord of the Rings: The Fellowship of the Ring 8.8 1,500,415\n",
      "Avengers: Endgame 8.7 351,352\n",
      "Forrest Gump 8.7 1,598,825\n",
      "Star Wars: Episode V - The Empire Strikes Back 8.7 1,045,935\n",
      "Inception 8.7 1,827,160\n",
      "The Lord of the Rings: The Two Towers 8.7 1,342,097\n",
      "One Flew Over the Cuckoo's Nest 8.7 826,482\n",
      "Goodfellas 8.7 900,052\n",
      "The Matrix 8.6 1,497,375\n",
      "Seven Samurai 8.6 281,879\n",
      "Se7en 8.6 1,278,663\n",
      "City of God 8.6 640,924\n",
      "Star Wars: Episode IV - A New Hope 8.6 1,115,283\n",
      "The Silence of the Lambs 8.6 1,125,490\n",
      "It's a Wonderful Life 8.6 354,949\n",
      "Life Is Beautiful 8.6 548,830\n",
      "Spirited Away 8.5 553,154\n",
      "Saving Private Ryan 8.5 1,102,488\n",
      "The Usual Suspects 8.5 901,931\n",
      "Léon: The Professional 8.5 918,760\n",
      "The Green Mile 8.5 1,007,367\n",
      "Interstellar 8.5 1,286,338\n",
      "Psycho 8.5 534,132\n",
      "American History X 8.5 946,160\n",
      "City Lights 8.5 145,812\n",
      "Casablanca 8.5 473,662\n",
      "Once Upon a Time in the West 8.5 269,706\n",
      "The Pianist 8.5 637,826\n",
      "Modern Times 8.5 188,938\n",
      "The Intouchables 8.5 670,957\n",
      "The Departed 8.5 1,069,186\n",
      "Back to the Future 8.5 928,993\n",
      "Terminator 2: Judgment Day 8.5 902,197\n",
      "Whiplash 8.5 610,151\n",
      "The Lion King 8.5 828,486\n",
      "Rear Window 8.5 396,337\n",
      "Raiders of the Lost Ark 8.5 807,162\n",
      "Gladiator 8.5 1,204,471\n",
      "The Prestige 8.5 1,058,354\n",
      "Apocalypse Now 8.4 545,115\n",
      "Memento 8.4 1,025,769\n",
      "Alien 8.4 709,445\n",
      "Spider-Man: Into the Spider-Verse 8.4 193,782\n",
      "Grave of the Fireflies 8.4 194,593\n",
      "Cinema Paradiso 8.4 199,836\n",
      "The Great Dictator 8.4 179,188\n",
      "Sunset Blvd. 8.4 177,955\n",
      "The Lives of Others 8.4 320,953\n",
      "Dr. Strangelove or: How I Learned to Stop Worrying and Love the Bomb 8.4 412,673\n",
      "Avengers: Infinity War 8.4 648,760\n",
      "Paths of Glory 8.4 155,293\n",
      "Django Unchained 8.4 1,202,300\n",
      "The Shining 8.4 775,742\n",
      "WALL·E 8.4 900,215\n",
      "Princess Mononoke 8.4 292,237\n",
      "Witness for the Prosecution 8.4 91,087\n",
      "Oldeuboi 8.3 455,706\n",
      "Aliens 8.3 597,347\n",
      "The Dark Knight Rises 8.3 1,379,024\n",
      "American Beauty 8.3 985,758\n",
      "Once Upon a Time in America 8.3 275,539\n",
      "Coco 8.3 270,831\n",
      "Das Boot 8.3 208,353\n",
      "Citizen Kane 8.3 361,613\n",
      "Braveheart 8.3 886,944\n",
      "Vertigo 8.3 318,375\n",
      "North by Northwest 8.3 270,226\n",
      "Reservoir Dogs 8.3 818,328\n",
      "Your Name. 8.3 130,960\n",
      "Star Wars: Episode VI - Return of the Jedi 8.3 856,822\n",
      "M 8.3 126,729\n",
      "Amadeus 8.3 334,835\n",
      "Requiem for a Dream 8.3 696,389\n",
      "Dangal 8.3 120,430\n",
      "3 Idiots 8.3 297,433\n",
      "2001: A Space Odyssey 8.3 539,011\n",
      "Toy Story 8.3 786,948\n",
      "Taare Zameen Par 8.3 140,113\n",
      "Eternal Sunshine of the Spotless Mind 8.3 820,543\n",
      "Lawrence of Arabia 8.3 240,633\n",
      "A Clockwork Orange 8.3 685,043\n",
      "Singin' in the Rain 8.3 195,361\n",
      "Amélie 8.3 648,617\n",
      "Double Indemnity 8.3 126,872\n",
      "Inglourious Basterds 8.3 1,111,840\n",
      "Taxi Driver 8.3 632,734\n",
      "Full Metal Jacket 8.3 605,750\n",
      "To Kill a Mockingbird 8.3 270,300\n",
      "Bicycle Thieves 8.3 126,200\n",
      "The Kid 8.3 95,957\n"
     ]
    }
   ],
   "source": [
    "for x in range(100):\n",
    "    try:\n",
    "        title = data[0].find_all(\"td\", class_=\"titleColumn\")[x].text.strip().split(\"\\n\")[1].strip()\n",
    "        rating = data[0].find_all(\"td\", class_=\"ratingColumn imdbRating\")[x].strong.text\n",
    "        vote = str(data[0].find_all(\"td\", class_=\"ratingColumn imdbRating\")[x].strong).split(\"on\")[2].split(\"user\")[0].strip()\n",
    "        print (title, rating, vote)\n",
    "        imdb_data = {\"Title\": title, \"Rating\": rating, \"Vote\": vote}\n",
    "        collection.insert_one(imdb_data)\n",
    "    except Exception as e:\n",
    "        raise e"
   ]
  },
  {
   "cell_type": "code",
   "execution_count": 112,
   "metadata": {
    "scrolled": true
   },
   "outputs": [
    {
     "name": "stdout",
     "output_type": "stream",
     "text": [
      "{'_id': ObjectId('5cd3bf384f0dbe3527ac3d6d'), 'Title': 'The Shawshank Redemption', 'Rating': '9.2', 'Vote': '2,085,517'}\n",
      "{'_id': ObjectId('5cd3bf384f0dbe3527ac3d6e'), 'Title': 'The Godfather', 'Rating': '9.2', 'Vote': '1,431,146'}\n",
      "{'_id': ObjectId('5cd3bf384f0dbe3527ac3d6f'), 'Title': 'The Godfather: Part II', 'Rating': '9.0', 'Vote': '993,902'}\n",
      "{'_id': ObjectId('5cd3bf384f0dbe3527ac3d70'), 'Title': 'The Dark Knight', 'Rating': '9.0', 'Vote': '2,052,032'}\n",
      "{'_id': ObjectId('5cd3bf394f0dbe3527ac3d71'), 'Title': '12 Angry Men', 'Rating': '8.9', 'Vote': '590,239'}\n",
      "{'_id': ObjectId('5cd3bf394f0dbe3527ac3d72'), 'Title': \"Schindler's List\", 'Rating': '8.9', 'Vote': '1,080,920'}\n",
      "{'_id': ObjectId('5cd3bf394f0dbe3527ac3d73'), 'Title': 'The Lord of the Rings: The Return of the King', 'Rating': '8.9', 'Vote': '1,484,376'}\n",
      "{'_id': ObjectId('5cd3bf394f0dbe3527ac3d74'), 'Title': 'Pulp Fiction', 'Rating': '8.9', 'Vote': '1,630,151'}\n",
      "{'_id': ObjectId('5cd3bf394f0dbe3527ac3d75'), 'Title': 'The Good, the Bad and the Ugly', 'Rating': '8.8', 'Vote': '619,067'}\n",
      "{'_id': ObjectId('5cd3bf394f0dbe3527ac3d76'), 'Title': 'Fight Club', 'Rating': '8.8', 'Vote': '1,667,489'}\n",
      "{'_id': ObjectId('5cd3bf394f0dbe3527ac3d77'), 'Title': 'The Lord of the Rings: The Fellowship of the Ring', 'Rating': '8.8', 'Vote': '1,500,415'}\n",
      "{'_id': ObjectId('5cd3bf394f0dbe3527ac3d78'), 'Title': 'Avengers: Endgame', 'Rating': '8.7', 'Vote': '351,352'}\n",
      "{'_id': ObjectId('5cd3bf394f0dbe3527ac3d79'), 'Title': 'Forrest Gump', 'Rating': '8.7', 'Vote': '1,598,825'}\n",
      "{'_id': ObjectId('5cd3bf394f0dbe3527ac3d7a'), 'Title': 'Star Wars: Episode V - The Empire Strikes Back', 'Rating': '8.7', 'Vote': '1,045,935'}\n",
      "{'_id': ObjectId('5cd3bf3a4f0dbe3527ac3d7b'), 'Title': 'Inception', 'Rating': '8.7', 'Vote': '1,827,160'}\n",
      "{'_id': ObjectId('5cd3bf3a4f0dbe3527ac3d7c'), 'Title': 'The Lord of the Rings: The Two Towers', 'Rating': '8.7', 'Vote': '1,342,097'}\n",
      "{'_id': ObjectId('5cd3bf3a4f0dbe3527ac3d7d'), 'Title': \"One Flew Over the Cuckoo's Nest\", 'Rating': '8.7', 'Vote': '826,482'}\n",
      "{'_id': ObjectId('5cd3bf3a4f0dbe3527ac3d7e'), 'Title': 'Goodfellas', 'Rating': '8.7', 'Vote': '900,052'}\n",
      "{'_id': ObjectId('5cd3bf3a4f0dbe3527ac3d7f'), 'Title': 'The Matrix', 'Rating': '8.6', 'Vote': '1,497,375'}\n",
      "{'_id': ObjectId('5cd3bf3a4f0dbe3527ac3d80'), 'Title': 'Seven Samurai', 'Rating': '8.6', 'Vote': '281,879'}\n",
      "{'_id': ObjectId('5cd3bf3a4f0dbe3527ac3d81'), 'Title': 'Se7en', 'Rating': '8.6', 'Vote': '1,278,663'}\n",
      "{'_id': ObjectId('5cd3bf3a4f0dbe3527ac3d82'), 'Title': 'City of God', 'Rating': '8.6', 'Vote': '640,924'}\n",
      "{'_id': ObjectId('5cd3bf3a4f0dbe3527ac3d83'), 'Title': 'Star Wars: Episode IV - A New Hope', 'Rating': '8.6', 'Vote': '1,115,283'}\n",
      "{'_id': ObjectId('5cd3bf3b4f0dbe3527ac3d84'), 'Title': 'The Silence of the Lambs', 'Rating': '8.6', 'Vote': '1,125,490'}\n",
      "{'_id': ObjectId('5cd3bf3b4f0dbe3527ac3d85'), 'Title': \"It's a Wonderful Life\", 'Rating': '8.6', 'Vote': '354,949'}\n",
      "{'_id': ObjectId('5cd3bf3b4f0dbe3527ac3d86'), 'Title': 'Life Is Beautiful', 'Rating': '8.6', 'Vote': '548,830'}\n",
      "{'_id': ObjectId('5cd3bf3b4f0dbe3527ac3d87'), 'Title': 'Spirited Away', 'Rating': '8.5', 'Vote': '553,154'}\n",
      "{'_id': ObjectId('5cd3bf3b4f0dbe3527ac3d88'), 'Title': 'Saving Private Ryan', 'Rating': '8.5', 'Vote': '1,102,488'}\n",
      "{'_id': ObjectId('5cd3bf3b4f0dbe3527ac3d89'), 'Title': 'The Usual Suspects', 'Rating': '8.5', 'Vote': '901,931'}\n",
      "{'_id': ObjectId('5cd3bf3b4f0dbe3527ac3d8a'), 'Title': 'Léon: The Professional', 'Rating': '8.5', 'Vote': '918,760'}\n",
      "{'_id': ObjectId('5cd3bf3b4f0dbe3527ac3d8b'), 'Title': 'The Green Mile', 'Rating': '8.5', 'Vote': '1,007,367'}\n",
      "{'_id': ObjectId('5cd3bf3b4f0dbe3527ac3d8c'), 'Title': 'Interstellar', 'Rating': '8.5', 'Vote': '1,286,338'}\n",
      "{'_id': ObjectId('5cd3bf3c4f0dbe3527ac3d8d'), 'Title': 'Psycho', 'Rating': '8.5', 'Vote': '534,132'}\n",
      "{'_id': ObjectId('5cd3bf3c4f0dbe3527ac3d8e'), 'Title': 'American History X', 'Rating': '8.5', 'Vote': '946,160'}\n",
      "{'_id': ObjectId('5cd3bf3c4f0dbe3527ac3d8f'), 'Title': 'City Lights', 'Rating': '8.5', 'Vote': '145,812'}\n",
      "{'_id': ObjectId('5cd3bf3c4f0dbe3527ac3d90'), 'Title': 'Casablanca', 'Rating': '8.5', 'Vote': '473,662'}\n",
      "{'_id': ObjectId('5cd3bf3c4f0dbe3527ac3d91'), 'Title': 'Once Upon a Time in the West', 'Rating': '8.5', 'Vote': '269,706'}\n",
      "{'_id': ObjectId('5cd3bf3c4f0dbe3527ac3d92'), 'Title': 'The Pianist', 'Rating': '8.5', 'Vote': '637,826'}\n",
      "{'_id': ObjectId('5cd3bf3c4f0dbe3527ac3d93'), 'Title': 'Modern Times', 'Rating': '8.5', 'Vote': '188,938'}\n",
      "{'_id': ObjectId('5cd3bf3c4f0dbe3527ac3d94'), 'Title': 'The Intouchables', 'Rating': '8.5', 'Vote': '670,957'}\n",
      "{'_id': ObjectId('5cd3bf3c4f0dbe3527ac3d95'), 'Title': 'The Departed', 'Rating': '8.5', 'Vote': '1,069,186'}\n",
      "{'_id': ObjectId('5cd3bf3d4f0dbe3527ac3d96'), 'Title': 'Back to the Future', 'Rating': '8.5', 'Vote': '928,993'}\n",
      "{'_id': ObjectId('5cd3bf3d4f0dbe3527ac3d97'), 'Title': 'Terminator 2: Judgment Day', 'Rating': '8.5', 'Vote': '902,197'}\n",
      "{'_id': ObjectId('5cd3bf3d4f0dbe3527ac3d98'), 'Title': 'Whiplash', 'Rating': '8.5', 'Vote': '610,151'}\n",
      "{'_id': ObjectId('5cd3bf3d4f0dbe3527ac3d99'), 'Title': 'The Lion King', 'Rating': '8.5', 'Vote': '828,486'}\n",
      "{'_id': ObjectId('5cd3bf3d4f0dbe3527ac3d9a'), 'Title': 'Rear Window', 'Rating': '8.5', 'Vote': '396,337'}\n",
      "{'_id': ObjectId('5cd3bf3d4f0dbe3527ac3d9b'), 'Title': 'Raiders of the Lost Ark', 'Rating': '8.5', 'Vote': '807,162'}\n",
      "{'_id': ObjectId('5cd3bf3d4f0dbe3527ac3d9c'), 'Title': 'Gladiator', 'Rating': '8.5', 'Vote': '1,204,471'}\n",
      "{'_id': ObjectId('5cd3bf3d4f0dbe3527ac3d9d'), 'Title': 'The Prestige', 'Rating': '8.5', 'Vote': '1,058,354'}\n",
      "{'_id': ObjectId('5cd3bf3d4f0dbe3527ac3d9e'), 'Title': 'Apocalypse Now', 'Rating': '8.4', 'Vote': '545,115'}\n",
      "{'_id': ObjectId('5cd3bf3e4f0dbe3527ac3d9f'), 'Title': 'Memento', 'Rating': '8.4', 'Vote': '1,025,769'}\n",
      "{'_id': ObjectId('5cd3bf3e4f0dbe3527ac3da0'), 'Title': 'Alien', 'Rating': '8.4', 'Vote': '709,445'}\n",
      "{'_id': ObjectId('5cd3bf3e4f0dbe3527ac3da1'), 'Title': 'Spider-Man: Into the Spider-Verse', 'Rating': '8.4', 'Vote': '193,782'}\n",
      "{'_id': ObjectId('5cd3bf3e4f0dbe3527ac3da2'), 'Title': 'Grave of the Fireflies', 'Rating': '8.4', 'Vote': '194,593'}\n",
      "{'_id': ObjectId('5cd3bf3e4f0dbe3527ac3da3'), 'Title': 'Cinema Paradiso', 'Rating': '8.4', 'Vote': '199,836'}\n",
      "{'_id': ObjectId('5cd3bf3e4f0dbe3527ac3da4'), 'Title': 'The Great Dictator', 'Rating': '8.4', 'Vote': '179,188'}\n",
      "{'_id': ObjectId('5cd3bf3e4f0dbe3527ac3da5'), 'Title': 'Sunset Blvd.', 'Rating': '8.4', 'Vote': '177,955'}\n",
      "{'_id': ObjectId('5cd3bf3e4f0dbe3527ac3da6'), 'Title': 'The Lives of Others', 'Rating': '8.4', 'Vote': '320,953'}\n",
      "{'_id': ObjectId('5cd3bf3e4f0dbe3527ac3da7'), 'Title': 'Dr. Strangelove or: How I Learned to Stop Worrying and Love the Bomb', 'Rating': '8.4', 'Vote': '412,673'}\n",
      "{'_id': ObjectId('5cd3bf3f4f0dbe3527ac3da8'), 'Title': 'Avengers: Infinity War', 'Rating': '8.4', 'Vote': '648,760'}\n",
      "{'_id': ObjectId('5cd3bf3f4f0dbe3527ac3da9'), 'Title': 'Paths of Glory', 'Rating': '8.4', 'Vote': '155,293'}\n",
      "{'_id': ObjectId('5cd3bf3f4f0dbe3527ac3daa'), 'Title': 'Django Unchained', 'Rating': '8.4', 'Vote': '1,202,300'}\n",
      "{'_id': ObjectId('5cd3bf3f4f0dbe3527ac3dab'), 'Title': 'The Shining', 'Rating': '8.4', 'Vote': '775,742'}\n",
      "{'_id': ObjectId('5cd3bf3f4f0dbe3527ac3dac'), 'Title': 'WALL·E', 'Rating': '8.4', 'Vote': '900,215'}\n",
      "{'_id': ObjectId('5cd3bf3f4f0dbe3527ac3dad'), 'Title': 'Princess Mononoke', 'Rating': '8.4', 'Vote': '292,237'}\n",
      "{'_id': ObjectId('5cd3bf3f4f0dbe3527ac3dae'), 'Title': 'Witness for the Prosecution', 'Rating': '8.4', 'Vote': '91,087'}\n",
      "{'_id': ObjectId('5cd3bf3f4f0dbe3527ac3daf'), 'Title': 'Oldeuboi', 'Rating': '8.3', 'Vote': '455,706'}\n",
      "{'_id': ObjectId('5cd3bf3f4f0dbe3527ac3db0'), 'Title': 'Aliens', 'Rating': '8.3', 'Vote': '597,347'}\n",
      "{'_id': ObjectId('5cd3bf3f4f0dbe3527ac3db1'), 'Title': 'The Dark Knight Rises', 'Rating': '8.3', 'Vote': '1,379,024'}\n",
      "{'_id': ObjectId('5cd3bf404f0dbe3527ac3db2'), 'Title': 'American Beauty', 'Rating': '8.3', 'Vote': '985,758'}\n",
      "{'_id': ObjectId('5cd3bf404f0dbe3527ac3db3'), 'Title': 'Once Upon a Time in America', 'Rating': '8.3', 'Vote': '275,539'}\n",
      "{'_id': ObjectId('5cd3bf404f0dbe3527ac3db4'), 'Title': 'Coco', 'Rating': '8.3', 'Vote': '270,831'}\n",
      "{'_id': ObjectId('5cd3bf404f0dbe3527ac3db5'), 'Title': 'Das Boot', 'Rating': '8.3', 'Vote': '208,353'}\n",
      "{'_id': ObjectId('5cd3bf404f0dbe3527ac3db6'), 'Title': 'Citizen Kane', 'Rating': '8.3', 'Vote': '361,613'}\n",
      "{'_id': ObjectId('5cd3bf404f0dbe3527ac3db7'), 'Title': 'Braveheart', 'Rating': '8.3', 'Vote': '886,944'}\n",
      "{'_id': ObjectId('5cd3bf404f0dbe3527ac3db8'), 'Title': 'Vertigo', 'Rating': '8.3', 'Vote': '318,375'}\n",
      "{'_id': ObjectId('5cd3bf404f0dbe3527ac3db9'), 'Title': 'North by Northwest', 'Rating': '8.3', 'Vote': '270,226'}\n",
      "{'_id': ObjectId('5cd3bf404f0dbe3527ac3dba'), 'Title': 'Reservoir Dogs', 'Rating': '8.3', 'Vote': '818,328'}\n",
      "{'_id': ObjectId('5cd3bf414f0dbe3527ac3dbb'), 'Title': 'Your Name.', 'Rating': '8.3', 'Vote': '130,960'}\n",
      "{'_id': ObjectId('5cd3bf414f0dbe3527ac3dbc'), 'Title': 'Star Wars: Episode VI - Return of the Jedi', 'Rating': '8.3', 'Vote': '856,822'}\n",
      "{'_id': ObjectId('5cd3bf414f0dbe3527ac3dbd'), 'Title': 'M', 'Rating': '8.3', 'Vote': '126,729'}\n",
      "{'_id': ObjectId('5cd3bf414f0dbe3527ac3dbe'), 'Title': 'Amadeus', 'Rating': '8.3', 'Vote': '334,835'}\n",
      "{'_id': ObjectId('5cd3bf414f0dbe3527ac3dbf'), 'Title': 'Requiem for a Dream', 'Rating': '8.3', 'Vote': '696,389'}\n",
      "{'_id': ObjectId('5cd3bf414f0dbe3527ac3dc0'), 'Title': 'Dangal', 'Rating': '8.3', 'Vote': '120,430'}\n",
      "{'_id': ObjectId('5cd3bf414f0dbe3527ac3dc1'), 'Title': '3 Idiots', 'Rating': '8.3', 'Vote': '297,433'}\n",
      "{'_id': ObjectId('5cd3bf414f0dbe3527ac3dc2'), 'Title': '2001: A Space Odyssey', 'Rating': '8.3', 'Vote': '539,011'}\n",
      "{'_id': ObjectId('5cd3bf414f0dbe3527ac3dc3'), 'Title': 'Toy Story', 'Rating': '8.3', 'Vote': '786,948'}\n",
      "{'_id': ObjectId('5cd3bf424f0dbe3527ac3dc4'), 'Title': 'Taare Zameen Par', 'Rating': '8.3', 'Vote': '140,113'}\n",
      "{'_id': ObjectId('5cd3bf424f0dbe3527ac3dc5'), 'Title': 'Eternal Sunshine of the Spotless Mind', 'Rating': '8.3', 'Vote': '820,543'}\n",
      "{'_id': ObjectId('5cd3bf424f0dbe3527ac3dc6'), 'Title': 'Lawrence of Arabia', 'Rating': '8.3', 'Vote': '240,633'}\n",
      "{'_id': ObjectId('5cd3bf424f0dbe3527ac3dc7'), 'Title': 'A Clockwork Orange', 'Rating': '8.3', 'Vote': '685,043'}\n",
      "{'_id': ObjectId('5cd3bf424f0dbe3527ac3dc8'), 'Title': \"Singin' in the Rain\", 'Rating': '8.3', 'Vote': '195,361'}\n",
      "{'_id': ObjectId('5cd3bf424f0dbe3527ac3dc9'), 'Title': 'Amélie', 'Rating': '8.3', 'Vote': '648,617'}\n",
      "{'_id': ObjectId('5cd3bf424f0dbe3527ac3dca'), 'Title': 'Double Indemnity', 'Rating': '8.3', 'Vote': '126,872'}\n",
      "{'_id': ObjectId('5cd3bf424f0dbe3527ac3dcb'), 'Title': 'Inglourious Basterds', 'Rating': '8.3', 'Vote': '1,111,840'}\n",
      "{'_id': ObjectId('5cd3bf424f0dbe3527ac3dcc'), 'Title': 'Taxi Driver', 'Rating': '8.3', 'Vote': '632,734'}\n",
      "{'_id': ObjectId('5cd3bf434f0dbe3527ac3dcd'), 'Title': 'Full Metal Jacket', 'Rating': '8.3', 'Vote': '605,750'}\n",
      "{'_id': ObjectId('5cd3bf434f0dbe3527ac3dce'), 'Title': 'To Kill a Mockingbird', 'Rating': '8.3', 'Vote': '270,300'}\n",
      "{'_id': ObjectId('5cd3bf434f0dbe3527ac3dcf'), 'Title': 'Bicycle Thieves', 'Rating': '8.3', 'Vote': '126,200'}\n",
      "{'_id': ObjectId('5cd3bf434f0dbe3527ac3dd0'), 'Title': 'The Kid', 'Rating': '8.3', 'Vote': '95,957'}\n"
     ]
    }
   ],
   "source": [
    "listings = db.items.find()\n",
    "\n",
    "for listing in listings:\n",
    "    print(listing)\n",
    "    "
   ]
  },
  {
   "cell_type": "code",
   "execution_count": 113,
   "metadata": {},
   "outputs": [],
   "source": [
    "test = db.items\n",
    "test = pandas.DataFrame(list(test.find()))"
   ]
  },
  {
   "cell_type": "code",
   "execution_count": 114,
   "metadata": {},
   "outputs": [],
   "source": [
    "imdb_df = test[[\"Title\", \"Rating\", \"Vote\"]]\n",
    "\n"
   ]
  },
  {
   "cell_type": "code",
   "execution_count": 115,
   "metadata": {},
   "outputs": [],
   "source": [
    "imdb_df[\"Src\"] = \"imdb\""
   ]
  },
  {
   "cell_type": "code",
   "execution_count": 116,
   "metadata": {},
   "outputs": [
    {
     "data": {
      "text/html": [
       "<div>\n",
       "<style scoped>\n",
       "    .dataframe tbody tr th:only-of-type {\n",
       "        vertical-align: middle;\n",
       "    }\n",
       "\n",
       "    .dataframe tbody tr th {\n",
       "        vertical-align: top;\n",
       "    }\n",
       "\n",
       "    .dataframe thead th {\n",
       "        text-align: right;\n",
       "    }\n",
       "</style>\n",
       "<table border=\"1\" class=\"dataframe\">\n",
       "  <thead>\n",
       "    <tr style=\"text-align: right;\">\n",
       "      <th></th>\n",
       "      <th>Title</th>\n",
       "      <th>Rating</th>\n",
       "      <th>Vote</th>\n",
       "      <th>Src</th>\n",
       "    </tr>\n",
       "  </thead>\n",
       "  <tbody>\n",
       "    <tr>\n",
       "      <th>0</th>\n",
       "      <td>The Shawshank Redemption</td>\n",
       "      <td>9.2</td>\n",
       "      <td>2,085,517</td>\n",
       "      <td>imdb</td>\n",
       "    </tr>\n",
       "    <tr>\n",
       "      <th>1</th>\n",
       "      <td>The Godfather</td>\n",
       "      <td>9.2</td>\n",
       "      <td>1,431,146</td>\n",
       "      <td>imdb</td>\n",
       "    </tr>\n",
       "    <tr>\n",
       "      <th>2</th>\n",
       "      <td>The Godfather: Part II</td>\n",
       "      <td>9.0</td>\n",
       "      <td>993,902</td>\n",
       "      <td>imdb</td>\n",
       "    </tr>\n",
       "    <tr>\n",
       "      <th>3</th>\n",
       "      <td>The Dark Knight</td>\n",
       "      <td>9.0</td>\n",
       "      <td>2,052,032</td>\n",
       "      <td>imdb</td>\n",
       "    </tr>\n",
       "    <tr>\n",
       "      <th>4</th>\n",
       "      <td>12 Angry Men</td>\n",
       "      <td>8.9</td>\n",
       "      <td>590,239</td>\n",
       "      <td>imdb</td>\n",
       "    </tr>\n",
       "  </tbody>\n",
       "</table>\n",
       "</div>"
      ],
      "text/plain": [
       "                      Title Rating       Vote   Src\n",
       "0  The Shawshank Redemption    9.2  2,085,517  imdb\n",
       "1             The Godfather    9.2  1,431,146  imdb\n",
       "2    The Godfather: Part II    9.0    993,902  imdb\n",
       "3           The Dark Knight    9.0  2,052,032  imdb\n",
       "4              12 Angry Men    8.9    590,239  imdb"
      ]
     },
     "execution_count": 116,
     "metadata": {},
     "output_type": "execute_result"
    }
   ],
   "source": [
    "imdb_df.head()"
   ]
  },
  {
   "cell_type": "markdown",
   "metadata": {},
   "source": [
    "RottenTomatoes_Scrape"
   ]
  },
  {
   "cell_type": "code",
   "execution_count": 117,
   "metadata": {},
   "outputs": [],
   "source": [
    "url = \"https://www.rottentomatoes.com/top/bestofrt/\"\n",
    "html = requests.get(url).text"
   ]
  },
  {
   "cell_type": "code",
   "execution_count": 118,
   "metadata": {},
   "outputs": [],
   "source": [
    "db = client.rt_db\n",
    "collection = db.items1"
   ]
  },
  {
   "cell_type": "code",
   "execution_count": 119,
   "metadata": {},
   "outputs": [],
   "source": [
    "soup = BeautifulSoup(html, \"html.parser\")"
   ]
  },
  {
   "cell_type": "code",
   "execution_count": 120,
   "metadata": {},
   "outputs": [],
   "source": [
    "datas = soup.find_all(\"table\", \"table\")"
   ]
  },
  {
   "cell_type": "code",
   "execution_count": 121,
   "metadata": {},
   "outputs": [],
   "source": [
    "#str(data.find_all(\"a\", class_ = \"unstyled articleLink\")[x].text.strip()).split(\"(\")[0]"
   ]
  },
  {
   "cell_type": "code",
   "execution_count": 122,
   "metadata": {},
   "outputs": [],
   "source": [
    "#str(datas[0].find_all(\"a\", class_ = \"unstyled articleLink\")[x].text.strip()).split(\"(\")[1][:4]"
   ]
  },
  {
   "cell_type": "code",
   "execution_count": 123,
   "metadata": {},
   "outputs": [
    {
     "name": "stdout",
     "output_type": "stream",
     "text": [
      "Black Panther   97% 464 2018\n",
      "Lady Bird   99% 361 2017\n",
      "The Wizard of Oz   98% 111 1939\n",
      "Citizen Kane   100% 80 1941\n",
      "BlacKkKlansman   96% 394 2018\n",
      "Get Out   98% 349 2017\n",
      "Mad Max: Fury Road   97% 402 2015\n",
      "The Third Man   99% 78 1949\n",
      "Moonlight   98% 353 2016\n",
      "Inside Out   98% 353 2015\n",
      "Wonder Woman   93% 425 2017\n",
      "Eighth Grade   99% 278 2018\n",
      "The Cabinet of Dr. Caligari   100% 50 Das \n",
      "Metropolis   99% 122 1927\n",
      "All About Eve   100% 66 1950\n",
      "It Happened One Night   98% 56 1934\n",
      "E.T. The Extra-Terrestrial   98% 125 1982\n",
      "Coco   97% 320 2017\n",
      "Dunkirk   92% 427 2017\n",
      "A Quiet Place   95% 348 2018\n",
      "Spotlight   97% 353 2015\n",
      "Selma   99% 296 2015\n",
      "Casablanca   97% 79 1942\n",
      "Modern Times   100% 54 1936\n",
      "The Godfather   98% 90 1972\n",
      "Star Wars: The Last Jedi   91% 435 2017\n",
      "The Big Sick   98% 280 2017\n",
      "Arrival   94% 399 2016\n",
      "Paddington 2   100% 228 2018\n",
      "La Grande illusion   97% 66 Gran\n",
      "Thor: Ragnarok   93% 387 2017\n",
      "The Shape of Water   92% 407 2017\n",
      "Logan   93% 384 2017\n",
      "Call Me by Your Name   95% 327 2018\n",
      "Incredibles 2   94% 346 2018\n",
      "Psycho   97% 90 1960\n",
      "Singin' in the Rain   100% 50 1952\n",
      "Leave No Trace   100% 215 2018\n",
      "Laura   100% 60 1944\n",
      "Gravity   96% 339 2013\n",
      "Boyhood   97% 304 2014\n",
      "A Hard Day's Night   98% 106 1964\n",
      "The Maltese Falcon   100% 53 1941\n",
      "Argo   96% 344 2012\n",
      "12 Years a Slave   95% 352 2013\n",
      "Manchester by the Sea   96% 325 2016\n",
      "The Adventures of Robin Hood   100% 46 1938\n",
      "Snow White and the Seven Dwarfs   98% 48 1937\n",
      "King Kong   98% 56 1933\n",
      "Nosferatu, a Symphony of Horror   97% 62 Nosf\n",
      "Sunset Boulevard   98% 62 1950\n",
      "Repulsion   100% 60 1965\n",
      "North by Northwest   99% 73 1959\n",
      "Baby Driver   93% 352 2017\n",
      "The Bride of Frankenstein   100% 43 1935\n",
      "The Battle of Algiers   98% 85 La B\n",
      "The Florida Project   96% 285 2017\n",
      "Rear Window   100% 64 1954\n",
      "Star Wars: Episode VII - The Force Awakens   92% 412 2015\n",
      "Alien   97% 115 1979\n",
      "La La Land   91% 422 2016\n",
      "Bicycle Thieves   98% 58 Ladr\n",
      "Spider-Man: Homecoming   92% 363 2017\n",
      "The Philadelphia Story   100% 57 1940\n",
      "Won't You Be My Neighbor?   98% 223 2018\n",
      "Touch of Evil   96% 76 1958\n",
      "Zootopia   97% 275 2016\n",
      "Toy Story 2   100% 165 1999\n",
      "Up   98% 291 2009\n",
      "Seven Samurai   100% 59 Shic\n",
      "M   100% 51 1931\n",
      "All Quiet on the Western Front   100% 43 1930\n",
      "War for the Planet of the Apes   93% 331 2017\n",
      "Taxi Driver   98% 82 1976\n",
      "Hell or High Water   97% 265 2016\n",
      "The Jungle Book   95% 312 2016\n",
      "Toy Story 3   98% 302 2010\n",
      "The Treasure of the Sierra Madre   100% 46 1948\n",
      "Rebecca   100% 53 1940\n",
      "The 400 Blows   100% 57 Les \n",
      "Vertigo   96% 72 1958\n",
      "Lawrence of Arabia   98% 82 1962\n",
      "Brooklyn   97% 263 2015\n",
      "The Babadook   98% 228 2014\n",
      "12 Angry Men   100% 50 Twel\n",
      "The Dark Knight   94% 332 2008\n",
      "Finding Nemo   99% 263 2003\n",
      "The Night of the Hunter   98% 65 1955\n",
      "A Streetcar Named Desire   98% 55 1951\n",
      "Army of Shadows   97% 73 L'Ar\n",
      "Captain America: Civil War   91% 392 2016\n",
      "Rosemary's Baby   99% 69 1968\n",
      "Frankenstein   100% 46 1931\n",
      "Finding Dory   94% 317 2016\n",
      "The Wrestler   98% 225 2008\n",
      "The Big Sleep   97% 60 1946\n",
      "Three Billboards Outside Ebbing, Missouri   90% 374 2017\n",
      "Dr. Strangelove Or How I Learned to Stop Worrying and Love the Bomb   98% 81 1964\n",
      "The Death of Stalin   96% 234 2018\n",
      "Harry Potter and the Deathly Hallows - Part 2   96% 324 2011\n"
     ]
    }
   ],
   "source": [
    "for data in datas:\n",
    "    for x in range(100):\n",
    "        title=str(data.find_all(\"a\", class_ = \"unstyled articleLink\")[x].text.strip()).split(\"(\")[0]\n",
    "        rating=data.find_all(\"span\", class_=\"tMeterScore\")[x].text\n",
    "        vote=data.find_all(\"td\", class_=\"right hidden-xs\")[x].text\n",
    "        year=str(datas[0].find_all(\"a\", class_ = \"unstyled articleLink\")[x].text.strip()).split(\"(\")[1][:4]\n",
    "        print(title, rating, vote, year)\n",
    "        RT_data = {\"Title\": title, \"Rating\": rating, \"Vote\": vote, \"Year\": year}\n",
    "        collection.insert_one(RT_data)"
   ]
  },
  {
   "cell_type": "code",
   "execution_count": 124,
   "metadata": {},
   "outputs": [],
   "source": [
    "RT1 = db.items1\n",
    "rt_df = pandas.DataFrame(list(RT1.find()))"
   ]
  },
  {
   "cell_type": "code",
   "execution_count": 126,
   "metadata": {},
   "outputs": [
    {
     "data": {
      "text/html": [
       "<div>\n",
       "<style scoped>\n",
       "    .dataframe tbody tr th:only-of-type {\n",
       "        vertical-align: middle;\n",
       "    }\n",
       "\n",
       "    .dataframe tbody tr th {\n",
       "        vertical-align: top;\n",
       "    }\n",
       "\n",
       "    .dataframe thead th {\n",
       "        text-align: right;\n",
       "    }\n",
       "</style>\n",
       "<table border=\"1\" class=\"dataframe\">\n",
       "  <thead>\n",
       "    <tr style=\"text-align: right;\">\n",
       "      <th></th>\n",
       "      <th>Title</th>\n",
       "      <th>Rating</th>\n",
       "      <th>Vote</th>\n",
       "      <th>Year</th>\n",
       "    </tr>\n",
       "  </thead>\n",
       "  <tbody>\n",
       "    <tr>\n",
       "      <th>0</th>\n",
       "      <td>Black Panther</td>\n",
       "      <td>97%</td>\n",
       "      <td>464</td>\n",
       "      <td>2018</td>\n",
       "    </tr>\n",
       "    <tr>\n",
       "      <th>1</th>\n",
       "      <td>Lady Bird</td>\n",
       "      <td>99%</td>\n",
       "      <td>361</td>\n",
       "      <td>2017</td>\n",
       "    </tr>\n",
       "    <tr>\n",
       "      <th>2</th>\n",
       "      <td>The Wizard of Oz</td>\n",
       "      <td>98%</td>\n",
       "      <td>111</td>\n",
       "      <td>1939</td>\n",
       "    </tr>\n",
       "    <tr>\n",
       "      <th>3</th>\n",
       "      <td>Citizen Kane</td>\n",
       "      <td>100%</td>\n",
       "      <td>80</td>\n",
       "      <td>1941</td>\n",
       "    </tr>\n",
       "    <tr>\n",
       "      <th>4</th>\n",
       "      <td>BlacKkKlansman</td>\n",
       "      <td>96%</td>\n",
       "      <td>394</td>\n",
       "      <td>2018</td>\n",
       "    </tr>\n",
       "  </tbody>\n",
       "</table>\n",
       "</div>"
      ],
      "text/plain": [
       "               Title Rating Vote  Year\n",
       "0     Black Panther     97%  464  2018\n",
       "1         Lady Bird     99%  361  2017\n",
       "2  The Wizard of Oz     98%  111  1939\n",
       "3      Citizen Kane    100%   80  1941\n",
       "4    BlacKkKlansman     96%  394  2018"
      ]
     },
     "execution_count": 126,
     "metadata": {},
     "output_type": "execute_result"
    }
   ],
   "source": [
    "rt_df = rt_df[[\"Title\", \"Rating\", \"Vote\", \"Year\"]]\n",
    "rt_df.head()"
   ]
  },
  {
   "cell_type": "code",
   "execution_count": null,
   "metadata": {},
   "outputs": [],
   "source": []
  }
 ],
 "metadata": {
  "kernelspec": {
   "display_name": "Python 3",
   "language": "python",
   "name": "python3"
  },
  "language_info": {
   "codemirror_mode": {
    "name": "ipython",
    "version": 3
   },
   "file_extension": ".py",
   "mimetype": "text/x-python",
   "name": "python",
   "nbconvert_exporter": "python",
   "pygments_lexer": "ipython3",
   "version": "3.7.1"
  }
 },
 "nbformat": 4,
 "nbformat_minor": 2
}
