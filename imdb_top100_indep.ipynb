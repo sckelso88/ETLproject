{
 "cells": [
  {
   "cell_type": "code",
   "execution_count": 35,
   "metadata": {
    "scrolled": true
   },
   "outputs": [],
   "source": [
    "from bs4 import BeautifulSoup\n",
    "import requests\n",
    "import pymongo"
   ]
  },
  {
   "cell_type": "code",
   "execution_count": 36,
   "metadata": {
    "scrolled": true
   },
   "outputs": [],
   "source": [
    "conn = 'mongodb://localhost:27017'\n",
    "client = pymongo.MongoClient(conn)"
   ]
  },
  {
   "cell_type": "code",
   "execution_count": 37,
   "metadata": {
    "scrolled": true
   },
   "outputs": [],
   "source": [
    "db = client.imdb_db\n",
    "collection = db.items"
   ]
  },
  {
   "cell_type": "code",
   "execution_count": 38,
   "metadata": {
    "scrolled": true
   },
   "outputs": [],
   "source": [
    "url = \"https://www.imdb.com/list/ls006332872/\"\n",
    "html = requests.get(url).text"
   ]
  },
  {
   "cell_type": "code",
   "execution_count": 39,
   "metadata": {
    "scrolled": true
   },
   "outputs": [],
   "source": [
    "soup = BeautifulSoup(html, \"html.parser\")\n"
   ]
  },
  {
   "cell_type": "code",
   "execution_count": 40,
   "metadata": {
    "scrolled": true
   },
   "outputs": [],
   "source": [
    "data = soup.find_all(\"div\", \"lister-item-content\")\n"
   ]
  },
  {
   "cell_type": "code",
   "execution_count": 41,
   "metadata": {},
   "outputs": [
    {
     "data": {
      "text/plain": [
       "'428,618'"
      ]
     },
     "execution_count": 41,
     "metadata": {},
     "output_type": "execute_result"
    }
   ],
   "source": [
    "data1 = soup.find_all(\"p\", \"text-muted text-small\")[2].find_all('span')[1].text\n",
    "data1"
   ]
  },
  {
   "cell_type": "code",
   "execution_count": 42,
   "metadata": {
    "scrolled": true
   },
   "outputs": [
    {
     "name": "stdout",
     "output_type": "stream",
     "text": [
      "American Psycho 7.6 428,618\n",
      "Castaway on the Moon 8.1 14,128\n",
      "La leggenda del pianista sull'oceano 8.1 51,563\n",
      "Perfume: The Story of a Murderer 7.5 218,848\n",
      "Yip Man 8 195,468\n",
      "Gattaca 7.8 259,312\n",
      "Martyrs 7.1 74,073\n",
      "Drive 7.8 519,092\n",
      "The Believer 7.2 34,296\n",
      "Six Degrees of Separation 6.9 18,581\n",
      "The Talented Mr. Ripley 7.4 160,659\n",
      "The Descent 7.2 183,855\n",
      "Green Street Hooligans 7.5 133,353\n",
      "Hunger 7.6 61,002\n",
      "Bubba Ho-Tep 7.1 43,059\n",
      "Chopper 7.2 34,480\n",
      "Thirst 7.2 37,553\n",
      "eXistenZ 6.8 87,382\n",
      "Brick 7.4 94,562\n",
      "Equilibrium 7.5 295,042\n",
      "American Splendor 7.5 45,472\n",
      "Oldeuboi 8.4 455,556\n",
      "Sin Nombre 7.6 29,488\n",
      "Waltz with Bashir 8 52,163\n",
      "Fish Tank 7.3 54,688\n",
      "The Machinist 7.7 328,494\n",
      "Pan's Labyrinth 8.2 569,488\n",
      "Control 7.7 57,652\n",
      "I Saw the Devil 7.8 93,271\n",
      "The Girl with the Dragon Tattoo 7.8 197,306\n",
      "Red Dog 7.4 15,254\n",
      "Der Räuber 6.8 4,127\n",
      "Rescue Dawn 7.3 94,832\n",
      "Super 6.8 70,377\n",
      "Big Fan 6.7 8,589\n",
      "Paper Man 6.6 17,298\n",
      "Black Snake Moan 7 58,168\n",
      "A Scanner Darkly 7.1 99,768\n",
      "Mr. Brooks 7.3 136,312\n",
      "The Man from Earth 7.9 159,743\n",
      "Buffalo '66 7.5 42,680\n",
      "Being John Malkovich 7.8 287,949\n",
      "Transamerica 7.4 38,921\n",
      "Copying Beethoven 6.8 12,274\n",
      "Willard 6.2 16,663\n",
      "Pitch Black 7.1 213,392\n",
      "Valhalla Rising 6.1 51,651\n",
      "Leaving Las Vegas 7.5 106,464\n",
      "The Mist 7.2 259,450\n",
      "Gods and Monsters 7.5 27,387\n",
      "High Fidelity 7.5 158,025\n",
      "Tucker and Dale vs Evil 7.5 153,109\n",
      "One Hour Photo 6.8 107,807\n",
      "High Tension 6.8 62,578\n",
      "Serenity 7.9 269,294\n",
      "Following 7.6 78,063\n",
      "Memento 8.5 1,025,493\n",
      "Pi 7.4 160,165\n",
      "Requiem for a Dream 8.3 696,226\n",
      "Trainspotting 8.2 587,107\n",
      "Pollock 7 25,564\n",
      "The Matador 6.8 42,562\n",
      "Open Range 7.5 61,827\n",
      "I Love You Phillip Morris 6.6 87,069\n",
      "Sunshine 7.3 219,095\n",
      "House of Sand and Fog 7.6 61,642\n",
      "Lucky Number Slevin 7.8 287,789\n",
      "Ride with the Devil 6.8 12,198\n",
      "Apt Pupil 6.7 33,080\n",
      "The Fall 7.9 101,425\n",
      "The Cell 6.3 89,309\n",
      "Punch-Drunk Love 7.3 131,939\n",
      "City of God 8.6 640,727\n",
      "Romper Stomper 6.8 35,407\n",
      "The Pledge 6.8 49,615\n",
      "Bad Lieutenant: Port of Call New Orleans 6.6 70,758\n",
      "Kinsey 7.1 45,776\n",
      "United 93 7.6 92,610\n",
      "Elephant 7.2 80,231\n",
      "Killing Zoe 6.5 18,801\n",
      "The Interview 7.2 5,560\n",
      "King of California 6.7 21,330\n",
      "Special 6.9 5,139\n",
      "The Slaughter Rule 6 2,201\n",
      "Harsh Times 6.9 60,027\n",
      "Identity 7.3 208,597\n",
      "Manic 7.4 8,896\n",
      "The Escapist 6.8 15,841\n",
      "Beyond the Sea 6.7 13,977\n",
      "Cube 7.3 191,053\n",
      "Grosse Pointe Blank 7.4 81,983\n",
      "Moon 7.9 310,634\n",
      "Half Nelson 7.2 80,362\n",
      "Slither 6.5 69,419\n",
      "Kung Fu Hustle 7.8 116,013\n",
      "Sideways 7.5 169,244\n",
      "Life as a House 7.5 41,659\n",
      "Frozen 6.2 62,065\n",
      "Tigerland 7 36,175\n",
      "Crouching Tiger, Hidden Dragon 7.9 239,249\n"
     ]
    }
   ],
   "source": [
    "for x in data:\n",
    "    try:\n",
    "        title = x.a.text\n",
    "        rating = x.find(\"span\", \"ipl-rating-star__rating\").text\n",
    "        vote = x.find_all(\"p\", \"text-muted text-small\")[2].find_all('span')[1].text\n",
    "        print(title, rating, vote)\n",
    "        imdb_data = {\"Title\": title, \"Rating\": rating, \"vote\": vote}\n",
    "        collection.insert_one(imdb_data)\n",
    "    except Exception as e:\n",
    "        raise e"
   ]
  },
  {
   "cell_type": "code",
   "execution_count": 43,
   "metadata": {
    "scrolled": true
   },
   "outputs": [
    {
     "name": "stdout",
     "output_type": "stream",
     "text": [
      "{'_id': ObjectId('5cd0e4a54a98cb43d6114dc0'), 'Title': 'American Psycho', 'Rating': '7.6', 'vote': '428,618'}\n",
      "{'_id': ObjectId('5cd0e4a54a98cb43d6114dc1'), 'Title': 'Castaway on the Moon', 'Rating': '8.1', 'vote': '14,128'}\n",
      "{'_id': ObjectId('5cd0e4a54a98cb43d6114dc2'), 'Title': \"La leggenda del pianista sull'oceano\", 'Rating': '8.1', 'vote': '51,563'}\n",
      "{'_id': ObjectId('5cd0e4a54a98cb43d6114dc3'), 'Title': 'Perfume: The Story of a Murderer', 'Rating': '7.5', 'vote': '218,848'}\n",
      "{'_id': ObjectId('5cd0e4a54a98cb43d6114dc4'), 'Title': 'Yip Man', 'Rating': '8', 'vote': '195,468'}\n",
      "{'_id': ObjectId('5cd0e4a54a98cb43d6114dc5'), 'Title': 'Gattaca', 'Rating': '7.8', 'vote': '259,312'}\n",
      "{'_id': ObjectId('5cd0e4a54a98cb43d6114dc6'), 'Title': 'Martyrs', 'Rating': '7.1', 'vote': '74,073'}\n",
      "{'_id': ObjectId('5cd0e4a54a98cb43d6114dc7'), 'Title': 'Drive', 'Rating': '7.8', 'vote': '519,092'}\n",
      "{'_id': ObjectId('5cd0e4a54a98cb43d6114dc8'), 'Title': 'The Believer', 'Rating': '7.2', 'vote': '34,296'}\n",
      "{'_id': ObjectId('5cd0e4a54a98cb43d6114dc9'), 'Title': 'Six Degrees of Separation', 'Rating': '6.9', 'vote': '18,581'}\n",
      "{'_id': ObjectId('5cd0e4a54a98cb43d6114dca'), 'Title': 'The Talented Mr. Ripley', 'Rating': '7.4', 'vote': '160,659'}\n",
      "{'_id': ObjectId('5cd0e4a54a98cb43d6114dcb'), 'Title': 'The Descent', 'Rating': '7.2', 'vote': '183,855'}\n",
      "{'_id': ObjectId('5cd0e4a54a98cb43d6114dcc'), 'Title': 'Green Street Hooligans', 'Rating': '7.5', 'vote': '133,353'}\n",
      "{'_id': ObjectId('5cd0e4a54a98cb43d6114dcd'), 'Title': 'Hunger', 'Rating': '7.6', 'vote': '61,002'}\n",
      "{'_id': ObjectId('5cd0e4a54a98cb43d6114dce'), 'Title': 'Bubba Ho-Tep', 'Rating': '7.1', 'vote': '43,059'}\n",
      "{'_id': ObjectId('5cd0e4a54a98cb43d6114dcf'), 'Title': 'Chopper', 'Rating': '7.2', 'vote': '34,480'}\n",
      "{'_id': ObjectId('5cd0e4a54a98cb43d6114dd0'), 'Title': 'Thirst', 'Rating': '7.2', 'vote': '37,553'}\n",
      "{'_id': ObjectId('5cd0e4a54a98cb43d6114dd1'), 'Title': 'eXistenZ', 'Rating': '6.8', 'vote': '87,382'}\n",
      "{'_id': ObjectId('5cd0e4a54a98cb43d6114dd2'), 'Title': 'Brick', 'Rating': '7.4', 'vote': '94,562'}\n",
      "{'_id': ObjectId('5cd0e4a54a98cb43d6114dd3'), 'Title': 'Equilibrium', 'Rating': '7.5', 'vote': '295,042'}\n",
      "{'_id': ObjectId('5cd0e4a54a98cb43d6114dd4'), 'Title': 'American Splendor', 'Rating': '7.5', 'vote': '45,472'}\n",
      "{'_id': ObjectId('5cd0e4a54a98cb43d6114dd5'), 'Title': 'Oldeuboi', 'Rating': '8.4', 'vote': '455,556'}\n",
      "{'_id': ObjectId('5cd0e4a54a98cb43d6114dd6'), 'Title': 'Sin Nombre', 'Rating': '7.6', 'vote': '29,488'}\n",
      "{'_id': ObjectId('5cd0e4a54a98cb43d6114dd7'), 'Title': 'Waltz with Bashir', 'Rating': '8', 'vote': '52,163'}\n",
      "{'_id': ObjectId('5cd0e4a54a98cb43d6114dd8'), 'Title': 'Fish Tank', 'Rating': '7.3', 'vote': '54,688'}\n",
      "{'_id': ObjectId('5cd0e4a54a98cb43d6114dd9'), 'Title': 'The Machinist', 'Rating': '7.7', 'vote': '328,494'}\n",
      "{'_id': ObjectId('5cd0e4a54a98cb43d6114dda'), 'Title': \"Pan's Labyrinth\", 'Rating': '8.2', 'vote': '569,488'}\n",
      "{'_id': ObjectId('5cd0e4a54a98cb43d6114ddb'), 'Title': 'Control', 'Rating': '7.7', 'vote': '57,652'}\n",
      "{'_id': ObjectId('5cd0e4a54a98cb43d6114ddc'), 'Title': 'I Saw the Devil', 'Rating': '7.8', 'vote': '93,271'}\n",
      "{'_id': ObjectId('5cd0e4a54a98cb43d6114ddd'), 'Title': 'The Girl with the Dragon Tattoo', 'Rating': '7.8', 'vote': '197,306'}\n",
      "{'_id': ObjectId('5cd0e4a54a98cb43d6114dde'), 'Title': 'Red Dog', 'Rating': '7.4', 'vote': '15,254'}\n",
      "{'_id': ObjectId('5cd0e4a54a98cb43d6114ddf'), 'Title': 'Der Räuber', 'Rating': '6.8', 'vote': '4,127'}\n",
      "{'_id': ObjectId('5cd0e4a54a98cb43d6114de0'), 'Title': 'Rescue Dawn', 'Rating': '7.3', 'vote': '94,832'}\n",
      "{'_id': ObjectId('5cd0e4a54a98cb43d6114de1'), 'Title': 'Super', 'Rating': '6.8', 'vote': '70,377'}\n",
      "{'_id': ObjectId('5cd0e4a54a98cb43d6114de2'), 'Title': 'Big Fan', 'Rating': '6.7', 'vote': '8,589'}\n",
      "{'_id': ObjectId('5cd0e4a54a98cb43d6114de3'), 'Title': 'Paper Man', 'Rating': '6.6', 'vote': '17,298'}\n",
      "{'_id': ObjectId('5cd0e4a54a98cb43d6114de4'), 'Title': 'Black Snake Moan', 'Rating': '7', 'vote': '58,168'}\n",
      "{'_id': ObjectId('5cd0e4a54a98cb43d6114de5'), 'Title': 'A Scanner Darkly', 'Rating': '7.1', 'vote': '99,768'}\n",
      "{'_id': ObjectId('5cd0e4a54a98cb43d6114de6'), 'Title': 'Mr. Brooks', 'Rating': '7.3', 'vote': '136,312'}\n",
      "{'_id': ObjectId('5cd0e4a54a98cb43d6114de7'), 'Title': 'The Man from Earth', 'Rating': '7.9', 'vote': '159,743'}\n",
      "{'_id': ObjectId('5cd0e4a54a98cb43d6114de8'), 'Title': \"Buffalo '66\", 'Rating': '7.5', 'vote': '42,680'}\n",
      "{'_id': ObjectId('5cd0e4a54a98cb43d6114de9'), 'Title': 'Being John Malkovich', 'Rating': '7.8', 'vote': '287,949'}\n",
      "{'_id': ObjectId('5cd0e4a54a98cb43d6114dea'), 'Title': 'Transamerica', 'Rating': '7.4', 'vote': '38,921'}\n",
      "{'_id': ObjectId('5cd0e4a54a98cb43d6114deb'), 'Title': 'Copying Beethoven', 'Rating': '6.8', 'vote': '12,274'}\n",
      "{'_id': ObjectId('5cd0e4a54a98cb43d6114dec'), 'Title': 'Willard', 'Rating': '6.2', 'vote': '16,663'}\n",
      "{'_id': ObjectId('5cd0e4a54a98cb43d6114ded'), 'Title': 'Pitch Black', 'Rating': '7.1', 'vote': '213,392'}\n",
      "{'_id': ObjectId('5cd0e4a54a98cb43d6114dee'), 'Title': 'Valhalla Rising', 'Rating': '6.1', 'vote': '51,651'}\n",
      "{'_id': ObjectId('5cd0e4a54a98cb43d6114def'), 'Title': 'Leaving Las Vegas', 'Rating': '7.5', 'vote': '106,464'}\n",
      "{'_id': ObjectId('5cd0e4a54a98cb43d6114df0'), 'Title': 'The Mist', 'Rating': '7.2', 'vote': '259,450'}\n",
      "{'_id': ObjectId('5cd0e4a54a98cb43d6114df1'), 'Title': 'Gods and Monsters', 'Rating': '7.5', 'vote': '27,387'}\n",
      "{'_id': ObjectId('5cd0e4a54a98cb43d6114df2'), 'Title': 'High Fidelity', 'Rating': '7.5', 'vote': '158,025'}\n",
      "{'_id': ObjectId('5cd0e4a54a98cb43d6114df3'), 'Title': 'Tucker and Dale vs Evil', 'Rating': '7.5', 'vote': '153,109'}\n",
      "{'_id': ObjectId('5cd0e4a54a98cb43d6114df4'), 'Title': 'One Hour Photo', 'Rating': '6.8', 'vote': '107,807'}\n",
      "{'_id': ObjectId('5cd0e4a54a98cb43d6114df5'), 'Title': 'High Tension', 'Rating': '6.8', 'vote': '62,578'}\n",
      "{'_id': ObjectId('5cd0e4a54a98cb43d6114df6'), 'Title': 'Serenity', 'Rating': '7.9', 'vote': '269,294'}\n",
      "{'_id': ObjectId('5cd0e4a54a98cb43d6114df7'), 'Title': 'Following', 'Rating': '7.6', 'vote': '78,063'}\n",
      "{'_id': ObjectId('5cd0e4a54a98cb43d6114df8'), 'Title': 'Memento', 'Rating': '8.5', 'vote': '1,025,493'}\n",
      "{'_id': ObjectId('5cd0e4a54a98cb43d6114df9'), 'Title': 'Pi', 'Rating': '7.4', 'vote': '160,165'}\n",
      "{'_id': ObjectId('5cd0e4a54a98cb43d6114dfa'), 'Title': 'Requiem for a Dream', 'Rating': '8.3', 'vote': '696,226'}\n",
      "{'_id': ObjectId('5cd0e4a54a98cb43d6114dfb'), 'Title': 'Trainspotting', 'Rating': '8.2', 'vote': '587,107'}\n",
      "{'_id': ObjectId('5cd0e4a54a98cb43d6114dfc'), 'Title': 'Pollock', 'Rating': '7', 'vote': '25,564'}\n",
      "{'_id': ObjectId('5cd0e4a54a98cb43d6114dfd'), 'Title': 'The Matador', 'Rating': '6.8', 'vote': '42,562'}\n",
      "{'_id': ObjectId('5cd0e4a54a98cb43d6114dfe'), 'Title': 'Open Range', 'Rating': '7.5', 'vote': '61,827'}\n",
      "{'_id': ObjectId('5cd0e4a54a98cb43d6114dff'), 'Title': 'I Love You Phillip Morris', 'Rating': '6.6', 'vote': '87,069'}\n",
      "{'_id': ObjectId('5cd0e4a54a98cb43d6114e00'), 'Title': 'Sunshine', 'Rating': '7.3', 'vote': '219,095'}\n",
      "{'_id': ObjectId('5cd0e4a54a98cb43d6114e01'), 'Title': 'House of Sand and Fog', 'Rating': '7.6', 'vote': '61,642'}\n",
      "{'_id': ObjectId('5cd0e4a54a98cb43d6114e02'), 'Title': 'Lucky Number Slevin', 'Rating': '7.8', 'vote': '287,789'}\n",
      "{'_id': ObjectId('5cd0e4a54a98cb43d6114e03'), 'Title': 'Ride with the Devil', 'Rating': '6.8', 'vote': '12,198'}\n",
      "{'_id': ObjectId('5cd0e4a54a98cb43d6114e04'), 'Title': 'Apt Pupil', 'Rating': '6.7', 'vote': '33,080'}\n",
      "{'_id': ObjectId('5cd0e4a54a98cb43d6114e05'), 'Title': 'The Fall', 'Rating': '7.9', 'vote': '101,425'}\n",
      "{'_id': ObjectId('5cd0e4a54a98cb43d6114e06'), 'Title': 'The Cell', 'Rating': '6.3', 'vote': '89,309'}\n",
      "{'_id': ObjectId('5cd0e4a54a98cb43d6114e07'), 'Title': 'Punch-Drunk Love', 'Rating': '7.3', 'vote': '131,939'}\n",
      "{'_id': ObjectId('5cd0e4a54a98cb43d6114e08'), 'Title': 'City of God', 'Rating': '8.6', 'vote': '640,727'}\n",
      "{'_id': ObjectId('5cd0e4a54a98cb43d6114e09'), 'Title': 'Romper Stomper', 'Rating': '6.8', 'vote': '35,407'}\n",
      "{'_id': ObjectId('5cd0e4a54a98cb43d6114e0a'), 'Title': 'The Pledge', 'Rating': '6.8', 'vote': '49,615'}\n",
      "{'_id': ObjectId('5cd0e4a54a98cb43d6114e0b'), 'Title': 'Bad Lieutenant: Port of Call New Orleans', 'Rating': '6.6', 'vote': '70,758'}\n",
      "{'_id': ObjectId('5cd0e4a54a98cb43d6114e0c'), 'Title': 'Kinsey', 'Rating': '7.1', 'vote': '45,776'}\n",
      "{'_id': ObjectId('5cd0e4a54a98cb43d6114e0d'), 'Title': 'United 93', 'Rating': '7.6', 'vote': '92,610'}\n",
      "{'_id': ObjectId('5cd0e4a54a98cb43d6114e0e'), 'Title': 'Elephant', 'Rating': '7.2', 'vote': '80,231'}\n",
      "{'_id': ObjectId('5cd0e4a54a98cb43d6114e0f'), 'Title': 'Killing Zoe', 'Rating': '6.5', 'vote': '18,801'}\n",
      "{'_id': ObjectId('5cd0e4a54a98cb43d6114e10'), 'Title': 'The Interview', 'Rating': '7.2', 'vote': '5,560'}\n",
      "{'_id': ObjectId('5cd0e4a54a98cb43d6114e11'), 'Title': 'King of California', 'Rating': '6.7', 'vote': '21,330'}\n",
      "{'_id': ObjectId('5cd0e4a54a98cb43d6114e12'), 'Title': 'Special', 'Rating': '6.9', 'vote': '5,139'}\n",
      "{'_id': ObjectId('5cd0e4a54a98cb43d6114e13'), 'Title': 'The Slaughter Rule', 'Rating': '6', 'vote': '2,201'}\n",
      "{'_id': ObjectId('5cd0e4a54a98cb43d6114e14'), 'Title': 'Harsh Times', 'Rating': '6.9', 'vote': '60,027'}\n",
      "{'_id': ObjectId('5cd0e4a54a98cb43d6114e15'), 'Title': 'Identity', 'Rating': '7.3', 'vote': '208,597'}\n",
      "{'_id': ObjectId('5cd0e4a54a98cb43d6114e16'), 'Title': 'Manic', 'Rating': '7.4', 'vote': '8,896'}\n",
      "{'_id': ObjectId('5cd0e4a54a98cb43d6114e17'), 'Title': 'The Escapist', 'Rating': '6.8', 'vote': '15,841'}\n",
      "{'_id': ObjectId('5cd0e4a54a98cb43d6114e18'), 'Title': 'Beyond the Sea', 'Rating': '6.7', 'vote': '13,977'}\n",
      "{'_id': ObjectId('5cd0e4a54a98cb43d6114e19'), 'Title': 'Cube', 'Rating': '7.3', 'vote': '191,053'}\n",
      "{'_id': ObjectId('5cd0e4a54a98cb43d6114e1a'), 'Title': 'Grosse Pointe Blank', 'Rating': '7.4', 'vote': '81,983'}\n",
      "{'_id': ObjectId('5cd0e4a54a98cb43d6114e1b'), 'Title': 'Moon', 'Rating': '7.9', 'vote': '310,634'}\n",
      "{'_id': ObjectId('5cd0e4a54a98cb43d6114e1c'), 'Title': 'Half Nelson', 'Rating': '7.2', 'vote': '80,362'}\n",
      "{'_id': ObjectId('5cd0e4a54a98cb43d6114e1d'), 'Title': 'Slither', 'Rating': '6.5', 'vote': '69,419'}\n",
      "{'_id': ObjectId('5cd0e4a54a98cb43d6114e1e'), 'Title': 'Kung Fu Hustle', 'Rating': '7.8', 'vote': '116,013'}\n",
      "{'_id': ObjectId('5cd0e4a54a98cb43d6114e1f'), 'Title': 'Sideways', 'Rating': '7.5', 'vote': '169,244'}\n",
      "{'_id': ObjectId('5cd0e4a54a98cb43d6114e20'), 'Title': 'Life as a House', 'Rating': '7.5', 'vote': '41,659'}\n",
      "{'_id': ObjectId('5cd0e4a54a98cb43d6114e21'), 'Title': 'Frozen', 'Rating': '6.2', 'vote': '62,065'}\n",
      "{'_id': ObjectId('5cd0e4a54a98cb43d6114e22'), 'Title': 'Tigerland', 'Rating': '7', 'vote': '36,175'}\n",
      "{'_id': ObjectId('5cd0e4a54a98cb43d6114e23'), 'Title': 'Crouching Tiger, Hidden Dragon', 'Rating': '7.9', 'vote': '239,249'}\n"
     ]
    }
   ],
   "source": [
    "listings = db.items.find()\n",
    "\n",
    "for listing in listings:\n",
    "    print(listing)\n",
    "    "
   ]
  },
  {
   "cell_type": "code",
   "execution_count": 46,
   "metadata": {
    "scrolled": true
   },
   "outputs": [],
   "source": [
    "title_list = []\n",
    "for i in data:\n",
    "    title = i.a.text\n",
    "    title_list.append(title)\n"
   ]
  },
  {
   "cell_type": "code",
   "execution_count": 47,
   "metadata": {},
   "outputs": [
    {
     "data": {
      "text/plain": [
       "['American Psycho',\n",
       " 'Castaway on the Moon',\n",
       " \"La leggenda del pianista sull'oceano\",\n",
       " 'Perfume: The Story of a Murderer',\n",
       " 'Yip Man',\n",
       " 'Gattaca',\n",
       " 'Martyrs',\n",
       " 'Drive',\n",
       " 'The Believer',\n",
       " 'Six Degrees of Separation',\n",
       " 'The Talented Mr. Ripley',\n",
       " 'The Descent',\n",
       " 'Green Street Hooligans',\n",
       " 'Hunger',\n",
       " 'Bubba Ho-Tep',\n",
       " 'Chopper',\n",
       " 'Thirst',\n",
       " 'eXistenZ',\n",
       " 'Brick',\n",
       " 'Equilibrium',\n",
       " 'American Splendor',\n",
       " 'Oldeuboi',\n",
       " 'Sin Nombre',\n",
       " 'Waltz with Bashir',\n",
       " 'Fish Tank',\n",
       " 'The Machinist',\n",
       " \"Pan's Labyrinth\",\n",
       " 'Control',\n",
       " 'I Saw the Devil',\n",
       " 'The Girl with the Dragon Tattoo',\n",
       " 'Red Dog',\n",
       " 'Der Räuber',\n",
       " 'Rescue Dawn',\n",
       " 'Super',\n",
       " 'Big Fan',\n",
       " 'Paper Man',\n",
       " 'Black Snake Moan',\n",
       " 'A Scanner Darkly',\n",
       " 'Mr. Brooks',\n",
       " 'The Man from Earth',\n",
       " \"Buffalo '66\",\n",
       " 'Being John Malkovich',\n",
       " 'Transamerica',\n",
       " 'Copying Beethoven',\n",
       " 'Willard',\n",
       " 'Pitch Black',\n",
       " 'Valhalla Rising',\n",
       " 'Leaving Las Vegas',\n",
       " 'The Mist',\n",
       " 'Gods and Monsters',\n",
       " 'High Fidelity',\n",
       " 'Tucker and Dale vs Evil',\n",
       " 'One Hour Photo',\n",
       " 'High Tension',\n",
       " 'Serenity',\n",
       " 'Following',\n",
       " 'Memento',\n",
       " 'Pi',\n",
       " 'Requiem for a Dream',\n",
       " 'Trainspotting',\n",
       " 'Pollock',\n",
       " 'The Matador',\n",
       " 'Open Range',\n",
       " 'I Love You Phillip Morris',\n",
       " 'Sunshine',\n",
       " 'House of Sand and Fog',\n",
       " 'Lucky Number Slevin',\n",
       " 'Ride with the Devil',\n",
       " 'Apt Pupil',\n",
       " 'The Fall',\n",
       " 'The Cell',\n",
       " 'Punch-Drunk Love',\n",
       " 'City of God',\n",
       " 'Romper Stomper',\n",
       " 'The Pledge',\n",
       " 'Bad Lieutenant: Port of Call New Orleans',\n",
       " 'Kinsey',\n",
       " 'United 93',\n",
       " 'Elephant',\n",
       " 'Killing Zoe',\n",
       " 'The Interview',\n",
       " 'King of California',\n",
       " 'Special',\n",
       " 'The Slaughter Rule',\n",
       " 'Harsh Times',\n",
       " 'Identity',\n",
       " 'Manic',\n",
       " 'The Escapist',\n",
       " 'Beyond the Sea',\n",
       " 'Cube',\n",
       " 'Grosse Pointe Blank',\n",
       " 'Moon',\n",
       " 'Half Nelson',\n",
       " 'Slither',\n",
       " 'Kung Fu Hustle',\n",
       " 'Sideways',\n",
       " 'Life as a House',\n",
       " 'Frozen',\n",
       " 'Tigerland',\n",
       " 'Crouching Tiger, Hidden Dragon']"
      ]
     },
     "execution_count": 47,
     "metadata": {},
     "output_type": "execute_result"
    }
   ],
   "source": [
    "title_list"
   ]
  },
  {
   "cell_type": "code",
   "execution_count": null,
   "metadata": {},
   "outputs": [],
   "source": []
  }
 ],
 "metadata": {
  "kernelspec": {
   "display_name": "Python 3",
   "language": "python",
   "name": "python3"
  },
  "language_info": {
   "codemirror_mode": {
    "name": "ipython",
    "version": 3
   },
   "file_extension": ".py",
   "mimetype": "text/x-python",
   "name": "python",
   "nbconvert_exporter": "python",
   "pygments_lexer": "ipython3",
   "version": "3.7.1"
  }
 },
 "nbformat": 4,
 "nbformat_minor": 2
}
